{
 "cells": [
  {
   "attachments": {},
   "cell_type": "markdown",
   "metadata": {},
   "source": [
    "### Project Scope and Explanation\n",
    "The aim of this scraper is to automate the data collection process; instead of comparing monthly metrics, we can obtain more granular trends using daily data. In the long run, I hope to connect this data to a graphical user interface that generates summary statistics for any dorm resident to have a better understanding of their ecological footprints. This will also supplement one of the tasks in the Cool Campus Challenge, which will hopefully take place sometime next March/April (2023). I am using the RSSP Dashboard for this project but the parameters could be adjusted to process any other dynamic website (https://engagementdashboard.com/universityofcaliforniaberkeley/rssp/building-performance)\n",
    "\n",
    "### Version\n",
    "This project is configured to work with Python 3.9.12\n",
    "\n",
    "### Resources\n",
    "Here are some of the resources that I consulted whilst constructing this scraper:\n",
    "\n",
    "https://www.youtube.com/watch?v=RvCBzhhydNk&ab_channel=Pythonology\n",
    "\n",
    "https://realpython.com/beautiful-soup-web-scraper-python/\n",
    "\n",
    "### Import Relevant Packages\n",
    "We begin by loading the appropriate packages necessary to scrape this data. Because the website is dynamic (i.e. the interface changes frequently), I had to connect my device to a Chromedriver. If running this code in your device, you will have to download the latest version of Chromedriver. Please see this link (https://chromedriver.chromium.org/downloads) to identify and download the correct file"
   ]
  },
  {
   "cell_type": "code",
   "execution_count": 1,
   "metadata": {},
   "outputs": [],
   "source": [
    "import requests\n",
    "from bs4 import BeautifulSoup \n",
    "from selenium import webdriver\n",
    "from selenium.webdriver.common.keys import Keys\n",
    "import time\n",
    "from webdriver_manager.chrome import ChromeDriverManager\n",
    "from selenium.webdriver.support.ui import Select\n",
    "from selenium.webdriver.support.ui import WebDriverWait \n",
    "from selenium.webdriver.support.ui import Select\n",
    "from selenium.common.exceptions import NoSuchElementException\n",
    "from selenium.webdriver.common.keys import Keys\n",
    "import csv\n",
    "from requests_html import HTMLSession\n",
    "from csv import writer\n",
    "import pandas as pd"
   ]
  },
  {
   "attachments": {},
   "cell_type": "markdown",
   "metadata": {},
   "source": [
    "### Initialization\n",
    "We begin by reading the website in HTTP format; we want to ensure our device can process the website locally. If successful, there should be a popup on your Google Chrome with a copy of the RSSP dashboard "
   ]
  },
  {
   "cell_type": "code",
   "execution_count": 2,
   "metadata": {},
   "outputs": [
    {
     "name": "stdout",
     "output_type": "stream",
     "text": [
      "\n"
     ]
    },
    {
     "name": "stderr",
     "output_type": "stream",
     "text": [
      "[WDM] - ====== WebDriver manager ======\n",
      "[WDM] - Current google-chrome version is 108.0.5359\n",
      "[WDM] - Get LATEST chromedriver version for 108.0.5359 google-chrome\n",
      "[WDM] - About to download new driver from https://chromedriver.storage.googleapis.com/108.0.5359.71/chromedriver_mac64.zip\n",
      "[WDM] - Driver has been saved in cache [/Users/rianakahara/.wdm/drivers/chromedriver/mac64/108.0.5359.71]\n",
      "/var/folders/2d/z67mmkcd67lb4zb35s0_j4tw0000gn/T/ipykernel_57831/697940575.py:5: DeprecationWarning: executable_path has been deprecated, please pass in a Service object\n",
      "  driver = webdriver.Chrome(ChromeDriverManager().install())\n"
     ]
    }
   ],
   "source": [
    "#url of the page we want to scrape\n",
    "url = \"https://engagementdashboard.com/universityofcaliforniaberkeley/rssp/building-performance\"\n",
    "\n",
    "#initialize webdriver. Parameter includes the path of the webdriver\n",
    "driver = webdriver.Chrome(ChromeDriverManager().install()) \n",
    "driver.get(url)\n",
    "\n",
    "#ensures the page is loaded\n",
    "time.sleep(5)\n",
    "\n",
    "#renders all the JS code and stores info in a static HTML code\n",
    "html = driver.page_source"
   ]
  },
  {
   "attachments": {},
   "cell_type": "markdown",
   "metadata": {},
   "source": [
    "### Extracting Dorm Names\n",
    "For the purposes of this project, I want to extract the name of the dorm and the daily energy consumption (kWh). I inspected the page (command 'I') and looked for the correct tags where the data are contained. If you run this code, you should get a list of all dorm names printed on the interface"
   ]
  },
  {
   "cell_type": "code",
   "execution_count": 3,
   "metadata": {},
   "outputs": [],
   "source": [
    "#apply bs4 to html variable and extract all relevant information\n",
    "soup = BeautifulSoup(html, \"html.parser\")\n",
    "all_divs = soup.find('div', {'class' : 'row js-building-box-container staggered-fade-in ng-isolate-scope animation-trigger'})\n",
    "dorms = all_divs.find_all('h3')\n",
    "\n",
    "#printing all dorms on the website\n",
    "count = 0\n",
    "for dorm in dorms:\n",
    "    print(dorm.text)\n",
    "    count += 1\n",
    "    if(count == 35):\n",
    "        break\n",
    "\n",
    "driver.close()   #closing the webdriver"
   ]
  },
  {
   "attachments": {},
   "cell_type": "markdown",
   "metadata": {},
   "source": [
    "### Extracting Energy Consumption Data\n",
    "Similar to the dorm names, we employed the same workflow as above to obtain energy consumption data (actual and expected). The data are associated directly with the order of residence halls above. Note that because the interface is dynamic the values will change every 24 hours"
   ]
  },
  {
   "cell_type": "code",
   "execution_count": 4,
   "metadata": {},
   "outputs": [
    {
     "ename": "InvalidSessionIdException",
     "evalue": "Message: invalid session id\nStacktrace:\n0   chromedriver                        0x0000000106897f38 chromedriver + 4910904\n1   chromedriver                        0x0000000106817a03 chromedriver + 4385283\n2   chromedriver                        0x000000010645c5bd chromedriver + 472509\n3   chromedriver                        0x000000010649098f chromedriver + 686479\n4   chromedriver                        0x00000001064c7016 chromedriver + 909334\n5   chromedriver                        0x00000001064c2edd chromedriver + 892637\n6   chromedriver                        0x00000001064c21ff chromedriver + 889343\n7   chromedriver                        0x0000000106427afa chromedriver + 256762\n8   chromedriver                        0x00000001068651de chromedriver + 4702686\n9   chromedriver                        0x0000000106869b19 chromedriver + 4721433\n10  chromedriver                        0x000000010687128e chromedriver + 4752014\n11  chromedriver                        0x000000010686a91a chromedriver + 4725018\n12  chromedriver                        0x000000010683eb02 chromedriver + 4545282\n13  chromedriver                        0x0000000106426237 chromedriver + 250423\n14  dyld                                0x000000010b21852e start + 462\n",
     "output_type": "error",
     "traceback": [
      "\u001b[0;31m---------------------------------------------------------------------------\u001b[0m",
      "\u001b[0;31mInvalidSessionIdException\u001b[0m                 Traceback (most recent call last)",
      "\u001b[1;32m/Users/rianakahara/Downloads/Waste_Dashboard.ipynb Cell 8\u001b[0m in \u001b[0;36m<cell line: 14>\u001b[0;34m()\u001b[0m\n\u001b[1;32m     <a href='vscode-notebook-cell:/Users/rianakahara/Downloads/Waste_Dashboard.ipynb#X10sZmlsZQ%3D%3D?line=10'>11</a>\u001b[0m     \u001b[39mif\u001b[39;00m(count \u001b[39m==\u001b[39m \u001b[39m35\u001b[39m):\n\u001b[1;32m     <a href='vscode-notebook-cell:/Users/rianakahara/Downloads/Waste_Dashboard.ipynb#X10sZmlsZQ%3D%3D?line=11'>12</a>\u001b[0m         \u001b[39mbreak\u001b[39;00m\n\u001b[0;32m---> <a href='vscode-notebook-cell:/Users/rianakahara/Downloads/Waste_Dashboard.ipynb#X10sZmlsZQ%3D%3D?line=13'>14</a>\u001b[0m driver\u001b[39m.\u001b[39;49mclose()\n",
      "File \u001b[0;32m~/opt/anaconda3/lib/python3.9/site-packages/selenium/webdriver/remote/webdriver.py:943\u001b[0m, in \u001b[0;36mWebDriver.close\u001b[0;34m(self)\u001b[0m\n\u001b[1;32m    934\u001b[0m \u001b[39mdef\u001b[39;00m \u001b[39mclose\u001b[39m(\u001b[39mself\u001b[39m) \u001b[39m-\u001b[39m\u001b[39m>\u001b[39m \u001b[39mNone\u001b[39;00m:\n\u001b[1;32m    935\u001b[0m     \u001b[39m\"\"\"\u001b[39;00m\n\u001b[1;32m    936\u001b[0m \u001b[39m    Closes the current window.\u001b[39;00m\n\u001b[1;32m    937\u001b[0m \n\u001b[0;32m   (...)\u001b[0m\n\u001b[1;32m    941\u001b[0m \u001b[39m            driver.close()\u001b[39;00m\n\u001b[1;32m    942\u001b[0m \u001b[39m    \"\"\"\u001b[39;00m\n\u001b[0;32m--> 943\u001b[0m     \u001b[39mself\u001b[39;49m\u001b[39m.\u001b[39;49mexecute(Command\u001b[39m.\u001b[39;49mCLOSE)\n",
      "File \u001b[0;32m~/opt/anaconda3/lib/python3.9/site-packages/selenium/webdriver/remote/webdriver.py:430\u001b[0m, in \u001b[0;36mWebDriver.execute\u001b[0;34m(self, driver_command, params)\u001b[0m\n\u001b[1;32m    428\u001b[0m response \u001b[39m=\u001b[39m \u001b[39mself\u001b[39m\u001b[39m.\u001b[39mcommand_executor\u001b[39m.\u001b[39mexecute(driver_command, params)\n\u001b[1;32m    429\u001b[0m \u001b[39mif\u001b[39;00m response:\n\u001b[0;32m--> 430\u001b[0m     \u001b[39mself\u001b[39;49m\u001b[39m.\u001b[39;49merror_handler\u001b[39m.\u001b[39;49mcheck_response(response)\n\u001b[1;32m    431\u001b[0m     response[\u001b[39m'\u001b[39m\u001b[39mvalue\u001b[39m\u001b[39m'\u001b[39m] \u001b[39m=\u001b[39m \u001b[39mself\u001b[39m\u001b[39m.\u001b[39m_unwrap_value(\n\u001b[1;32m    432\u001b[0m         response\u001b[39m.\u001b[39mget(\u001b[39m'\u001b[39m\u001b[39mvalue\u001b[39m\u001b[39m'\u001b[39m, \u001b[39mNone\u001b[39;00m))\n\u001b[1;32m    433\u001b[0m     \u001b[39mreturn\u001b[39;00m response\n",
      "File \u001b[0;32m~/opt/anaconda3/lib/python3.9/site-packages/selenium/webdriver/remote/errorhandler.py:247\u001b[0m, in \u001b[0;36mErrorHandler.check_response\u001b[0;34m(self, response)\u001b[0m\n\u001b[1;32m    245\u001b[0m         alert_text \u001b[39m=\u001b[39m value[\u001b[39m'\u001b[39m\u001b[39malert\u001b[39m\u001b[39m'\u001b[39m]\u001b[39m.\u001b[39mget(\u001b[39m'\u001b[39m\u001b[39mtext\u001b[39m\u001b[39m'\u001b[39m)\n\u001b[1;32m    246\u001b[0m     \u001b[39mraise\u001b[39;00m exception_class(message, screen, stacktrace, alert_text)  \u001b[39m# type: ignore[call-arg]  # mypy is not smart enough here\u001b[39;00m\n\u001b[0;32m--> 247\u001b[0m \u001b[39mraise\u001b[39;00m exception_class(message, screen, stacktrace)\n",
      "\u001b[0;31mInvalidSessionIdException\u001b[0m: Message: invalid session id\nStacktrace:\n0   chromedriver                        0x0000000106897f38 chromedriver + 4910904\n1   chromedriver                        0x0000000106817a03 chromedriver + 4385283\n2   chromedriver                        0x000000010645c5bd chromedriver + 472509\n3   chromedriver                        0x000000010649098f chromedriver + 686479\n4   chromedriver                        0x00000001064c7016 chromedriver + 909334\n5   chromedriver                        0x00000001064c2edd chromedriver + 892637\n6   chromedriver                        0x00000001064c21ff chromedriver + 889343\n7   chromedriver                        0x0000000106427afa chromedriver + 256762\n8   chromedriver                        0x00000001068651de chromedriver + 4702686\n9   chromedriver                        0x0000000106869b19 chromedriver + 4721433\n10  chromedriver                        0x000000010687128e chromedriver + 4752014\n11  chromedriver                        0x000000010686a91a chromedriver + 4725018\n12  chromedriver                        0x000000010683eb02 chromedriver + 4545282\n13  chromedriver                        0x0000000106426237 chromedriver + 250423\n14  dyld                                0x000000010b21852e start + 462\n"
     ]
    }
   ],
   "source": [
    "#apply bs4 to html variable and extract all relevant information\n",
    "soup = BeautifulSoup(html, \"html.parser\")\n",
    "all_divs = soup.find('building-performance', {'class' : 'col-xs-12 ng-isolate-scope'})\n",
    "energy = all_divs.find_all('span')\n",
    "\n",
    "#printing all dorms on the website\n",
    "count = 0\n",
    "for e in energy:\n",
    "    print(e.text)\n",
    "    count += 1\n",
    "    if(count == 35):\n",
    "        break\n",
    "\n",
    "driver.close()   #closing the webdriver"
   ]
  },
  {
   "attachments": {},
   "cell_type": "markdown",
   "metadata": {},
   "source": [
    "### Converting to CSV Format\n",
    "Our data will mean nothing unless it is consolidated into Comma Separated Value form (CSV). By synthesizing our data into this format (MS Excel by default), it will be a lot easier to manipulate the data and generate visualizations that will reveal potential trends in consumption statistics"
   ]
  },
  {
   "cell_type": "code",
   "execution_count": 5,
   "metadata": {},
   "outputs": [],
   "source": [
    "lists = soup.find_all('section', class_ = \"building-box building-box--full-view col-xs-2\")\n",
    "\n",
    "with open('RSSP_EC.csv', 'a', encoding = 'utf8', newline = '') as f:\n",
    "    thewriter = writer(f)\n",
    "    header = ['Energy Consumption (kWh)']\n",
    "    thewriter.writerow(header)\n",
    "    for e in energy:\n",
    "        energy_consump = e.text\n",
    "    \n",
    "        info = [energy_consump]\n",
    "        thewriter.writerow(info)\n",
    "\n",
    "with open('RSSP_D.csv', 'a', encoding = 'utf8', newline = '') as f:\n",
    "    thewriter = writer(f)\n",
    "    header = ['Dorm Name']\n",
    "    thewriter.writerow(header)\n",
    "    for d in dorms:\n",
    "        dn = d.text\n",
    "    \n",
    "        info = [dn]\n",
    "        thewriter.writerow(info)"
   ]
  },
  {
   "attachments": {},
   "cell_type": "markdown",
   "metadata": {},
   "source": [
    "### Reformatting and Synthesizing\n",
    "Due to complications in the code, I created two separate CSV's for the name of the dorm and their individual energy consumption values. I will view them as dataframes and cocantenate them appropriately. Because we only need the actual value of energy consumption, we will also extract the valuable information in this step"
   ]
  },
  {
   "cell_type": "code",
   "execution_count": 43,
   "metadata": {},
   "outputs": [
    {
     "data": {
      "text/html": [
       "<div>\n",
       "<style scoped>\n",
       "    .dataframe tbody tr th:only-of-type {\n",
       "        vertical-align: middle;\n",
       "    }\n",
       "\n",
       "    .dataframe tbody tr th {\n",
       "        vertical-align: top;\n",
       "    }\n",
       "\n",
       "    .dataframe thead th {\n",
       "        text-align: right;\n",
       "    }\n",
       "</style>\n",
       "<table border=\"1\" class=\"dataframe\">\n",
       "  <thead>\n",
       "    <tr style=\"text-align: right;\">\n",
       "      <th></th>\n",
       "      <th>Building</th>\n",
       "    </tr>\n",
       "  </thead>\n",
       "  <tbody>\n",
       "    <tr>\n",
       "      <th>0</th>\n",
       "      <td>Clark Kerr Campus - Building 4</td>\n",
       "    </tr>\n",
       "    <tr>\n",
       "      <th>1</th>\n",
       "      <td>Clark Kerr Campus - Building 7</td>\n",
       "    </tr>\n",
       "    <tr>\n",
       "      <th>2</th>\n",
       "      <td>Residence Hall 1</td>\n",
       "    </tr>\n",
       "    <tr>\n",
       "      <th>3</th>\n",
       "      <td>Clark Kerr Campus - Building 8</td>\n",
       "    </tr>\n",
       "    <tr>\n",
       "      <th>4</th>\n",
       "      <td>Clark Kerr Campus - Building 3</td>\n",
       "    </tr>\n",
       "    <tr>\n",
       "      <th>5</th>\n",
       "      <td>Residence Hall 3</td>\n",
       "    </tr>\n",
       "    <tr>\n",
       "      <th>6</th>\n",
       "      <td>Channing Bowditch Housing</td>\n",
       "    </tr>\n",
       "    <tr>\n",
       "      <th>7</th>\n",
       "      <td>Residence Hall 2</td>\n",
       "    </tr>\n",
       "    <tr>\n",
       "      <th>8</th>\n",
       "      <td>Clark Kerr Campus - Other Buildings</td>\n",
       "    </tr>\n",
       "    <tr>\n",
       "      <th>9</th>\n",
       "      <td>Maximino Martinez Commons</td>\n",
       "    </tr>\n",
       "    <tr>\n",
       "      <th>10</th>\n",
       "      <td>Clark Kerr Campus - Building 11</td>\n",
       "    </tr>\n",
       "    <tr>\n",
       "      <th>11</th>\n",
       "      <td>Clark Kerr Campus - Building 14</td>\n",
       "    </tr>\n",
       "    <tr>\n",
       "      <th>12</th>\n",
       "      <td>Clark Kerr Campus - Building 9</td>\n",
       "    </tr>\n",
       "    <tr>\n",
       "      <th>13</th>\n",
       "      <td>Foothill Housing</td>\n",
       "    </tr>\n",
       "    <tr>\n",
       "      <th>14</th>\n",
       "      <td>Clark Kerr Campus - Building 2</td>\n",
       "    </tr>\n",
       "    <tr>\n",
       "      <th>15</th>\n",
       "      <td>RSSB Central Dining</td>\n",
       "    </tr>\n",
       "    <tr>\n",
       "      <th>16</th>\n",
       "      <td>Stern Hall</td>\n",
       "    </tr>\n",
       "    <tr>\n",
       "      <th>17</th>\n",
       "      <td>Residence Hall 2 - Cunningham</td>\n",
       "    </tr>\n",
       "    <tr>\n",
       "      <th>18</th>\n",
       "      <td>Residence Hall 2 - Griffiths</td>\n",
       "    </tr>\n",
       "    <tr>\n",
       "      <th>19</th>\n",
       "      <td>Residence Hall 2 - Davidson</td>\n",
       "    </tr>\n",
       "    <tr>\n",
       "      <th>20</th>\n",
       "      <td>Residence Hall 2 - Ehrman</td>\n",
       "    </tr>\n",
       "    <tr>\n",
       "      <th>21</th>\n",
       "      <td>Residence Hall 2 - Towle and Wada</td>\n",
       "    </tr>\n",
       "    <tr>\n",
       "      <th>22</th>\n",
       "      <td>Residence Hall 1 - Deutsch</td>\n",
       "    </tr>\n",
       "    <tr>\n",
       "      <th>23</th>\n",
       "      <td>Residence Hall 1 - Cheney</td>\n",
       "    </tr>\n",
       "    <tr>\n",
       "      <th>24</th>\n",
       "      <td>Residence Hall 1 - Freeborn</td>\n",
       "    </tr>\n",
       "    <tr>\n",
       "      <th>25</th>\n",
       "      <td>Residence Hall 1 - Putnam</td>\n",
       "    </tr>\n",
       "    <tr>\n",
       "      <th>26</th>\n",
       "      <td>Residence Hall 1 - Christian and Slottman</td>\n",
       "    </tr>\n",
       "    <tr>\n",
       "      <th>27</th>\n",
       "      <td>Residence Hall 3 - Norton</td>\n",
       "    </tr>\n",
       "    <tr>\n",
       "      <th>28</th>\n",
       "      <td>Residence Hall 3 - Priestley</td>\n",
       "    </tr>\n",
       "    <tr>\n",
       "      <th>29</th>\n",
       "      <td>Residence Hall 3 - Ida</td>\n",
       "    </tr>\n",
       "  </tbody>\n",
       "</table>\n",
       "</div>"
      ],
      "text/plain": [
       "                                     Building\n",
       "0              Clark Kerr Campus - Building 4\n",
       "1              Clark Kerr Campus - Building 7\n",
       "2                            Residence Hall 1\n",
       "3              Clark Kerr Campus - Building 8\n",
       "4              Clark Kerr Campus - Building 3\n",
       "5                            Residence Hall 3\n",
       "6                   Channing Bowditch Housing\n",
       "7                            Residence Hall 2\n",
       "8         Clark Kerr Campus - Other Buildings\n",
       "9                   Maximino Martinez Commons\n",
       "10            Clark Kerr Campus - Building 11\n",
       "11            Clark Kerr Campus - Building 14\n",
       "12             Clark Kerr Campus - Building 9\n",
       "13                           Foothill Housing\n",
       "14             Clark Kerr Campus - Building 2\n",
       "15                        RSSB Central Dining\n",
       "16                                 Stern Hall\n",
       "17              Residence Hall 2 - Cunningham\n",
       "18               Residence Hall 2 - Griffiths\n",
       "19                Residence Hall 2 - Davidson\n",
       "20                  Residence Hall 2 - Ehrman\n",
       "21          Residence Hall 2 - Towle and Wada\n",
       "22                 Residence Hall 1 - Deutsch\n",
       "23                  Residence Hall 1 - Cheney\n",
       "24                Residence Hall 1 - Freeborn\n",
       "25                  Residence Hall 1 - Putnam\n",
       "26  Residence Hall 1 - Christian and Slottman\n",
       "27                  Residence Hall 3 - Norton\n",
       "28               Residence Hall 3 - Priestley\n",
       "29                     Residence Hall 3 - Ida"
      ]
     },
     "execution_count": 43,
     "metadata": {},
     "output_type": "execute_result"
    }
   ],
   "source": [
    "#load csv's as dataframes and cocantenate them column-wise\n",
    "df_name = pd.read_csv('/Users/rianakahara/Downloads/RSSP_D.csv')\n",
    "\n",
    "#remove any rows with the value 'Dorm Name'\n",
    "df_name = df_name.loc[df_name['Energy Consumption (kWh)'] != 'Dorm Name']\n",
    "\n",
    "#get the first 30 rows (indexed at 0) of the dataframe. They will be discrete building names\n",
    "df_name = df_name.iloc[:30]\n",
    "df_name = df_name.rename(columns = {'Energy Consumption (kWh)':'Building'})\n",
    "df_name"
   ]
  },
  {
   "cell_type": "code",
   "execution_count": 55,
   "metadata": {},
   "outputs": [
    {
     "data": {
      "text/html": [
       "<div>\n",
       "<style scoped>\n",
       "    .dataframe tbody tr th:only-of-type {\n",
       "        vertical-align: middle;\n",
       "    }\n",
       "\n",
       "    .dataframe tbody tr th {\n",
       "        vertical-align: top;\n",
       "    }\n",
       "\n",
       "    .dataframe thead th {\n",
       "        text-align: right;\n",
       "    }\n",
       "</style>\n",
       "<table border=\"1\" class=\"dataframe\">\n",
       "  <thead>\n",
       "    <tr style=\"text-align: right;\">\n",
       "      <th></th>\n",
       "      <th>Energy Consumption (kWh)</th>\n",
       "    </tr>\n",
       "  </thead>\n",
       "  <tbody>\n",
       "    <tr>\n",
       "      <th>0</th>\n",
       "      <td>190</td>\n",
       "    </tr>\n",
       "    <tr>\n",
       "      <th>1</th>\n",
       "      <td>142</td>\n",
       "    </tr>\n",
       "    <tr>\n",
       "      <th>2</th>\n",
       "      <td>4,027</td>\n",
       "    </tr>\n",
       "    <tr>\n",
       "      <th>3</th>\n",
       "      <td>211</td>\n",
       "    </tr>\n",
       "    <tr>\n",
       "      <th>4</th>\n",
       "      <td>310</td>\n",
       "    </tr>\n",
       "    <tr>\n",
       "      <th>5</th>\n",
       "      <td>2,781</td>\n",
       "    </tr>\n",
       "    <tr>\n",
       "      <th>6</th>\n",
       "      <td>1,505</td>\n",
       "    </tr>\n",
       "    <tr>\n",
       "      <th>7</th>\n",
       "      <td>2,403</td>\n",
       "    </tr>\n",
       "    <tr>\n",
       "      <th>8</th>\n",
       "      <td>3,813</td>\n",
       "    </tr>\n",
       "    <tr>\n",
       "      <th>9</th>\n",
       "      <td>1,318</td>\n",
       "    </tr>\n",
       "    <tr>\n",
       "      <th>10</th>\n",
       "      <td>142</td>\n",
       "    </tr>\n",
       "    <tr>\n",
       "      <th>11</th>\n",
       "      <td>281</td>\n",
       "    </tr>\n",
       "    <tr>\n",
       "      <th>12</th>\n",
       "      <td>241</td>\n",
       "    </tr>\n",
       "    <tr>\n",
       "      <th>13</th>\n",
       "      <td>2,925</td>\n",
       "    </tr>\n",
       "    <tr>\n",
       "      <th>14</th>\n",
       "      <td>317</td>\n",
       "    </tr>\n",
       "    <tr>\n",
       "      <th>15</th>\n",
       "      <td>5,604</td>\n",
       "    </tr>\n",
       "    <tr>\n",
       "      <th>16</th>\n",
       "      <td>369</td>\n",
       "    </tr>\n",
       "    <tr>\n",
       "      <th>17</th>\n",
       "      <td>No data</td>\n",
       "    </tr>\n",
       "    <tr>\n",
       "      <th>18</th>\n",
       "      <td>407</td>\n",
       "    </tr>\n",
       "    <tr>\n",
       "      <th>19</th>\n",
       "      <td>363</td>\n",
       "    </tr>\n",
       "    <tr>\n",
       "      <th>20</th>\n",
       "      <td>405</td>\n",
       "    </tr>\n",
       "    <tr>\n",
       "      <th>21</th>\n",
       "      <td>492</td>\n",
       "    </tr>\n",
       "    <tr>\n",
       "      <th>22</th>\n",
       "      <td>409</td>\n",
       "    </tr>\n",
       "    <tr>\n",
       "      <th>23</th>\n",
       "      <td>1,849</td>\n",
       "    </tr>\n",
       "    <tr>\n",
       "      <th>24</th>\n",
       "      <td>542</td>\n",
       "    </tr>\n",
       "    <tr>\n",
       "      <th>25</th>\n",
       "      <td>No data</td>\n",
       "    </tr>\n",
       "    <tr>\n",
       "      <th>26</th>\n",
       "      <td>1,715</td>\n",
       "    </tr>\n",
       "    <tr>\n",
       "      <th>27</th>\n",
       "      <td>336</td>\n",
       "    </tr>\n",
       "    <tr>\n",
       "      <th>28</th>\n",
       "      <td>416</td>\n",
       "    </tr>\n",
       "    <tr>\n",
       "      <th>29</th>\n",
       "      <td>385</td>\n",
       "    </tr>\n",
       "  </tbody>\n",
       "</table>\n",
       "</div>"
      ],
      "text/plain": [
       "   Energy Consumption (kWh)\n",
       "0                      190 \n",
       "1                      142 \n",
       "2                    4,027 \n",
       "3                      211 \n",
       "4                      310 \n",
       "5                    2,781 \n",
       "6                    1,505 \n",
       "7                    2,403 \n",
       "8                    3,813 \n",
       "9                    1,318 \n",
       "10                     142 \n",
       "11                     281 \n",
       "12                     241 \n",
       "13                   2,925 \n",
       "14                     317 \n",
       "15                   5,604 \n",
       "16                     369 \n",
       "17                  No data\n",
       "18                     407 \n",
       "19                     363 \n",
       "20                     405 \n",
       "21                     492 \n",
       "22                     409 \n",
       "23                   1,849 \n",
       "24                     542 \n",
       "25                  No data\n",
       "26                   1,715 \n",
       "27                     336 \n",
       "28                     416 \n",
       "29                     385 "
      ]
     },
     "execution_count": 55,
     "metadata": {},
     "output_type": "execute_result"
    }
   ],
   "source": [
    "#load csv onto VSCode\n",
    "df_energy = pd.read_csv('/Users/rianakahara/Downloads/RSSP_EC.csv')\n",
    "\n",
    "#remove all rows with the strings 'Actual' or 'Expected'\n",
    "df_energy = df_energy.loc[df_energy['Energy Consumption (kWh)'] != 'Actual'].loc[df_energy['Energy Consumption (kWh)'] != 'Expected'].loc[df_energy['Energy Consumption (kWh)'] != 'Energy Consumption (kWh)'] \n",
    "\n",
    "#reset index (leftmost column) and keep the even-numbered rows (actual energy consumption values)\n",
    "df_energy['Energy Consumption (kWh)'] = df_energy['Energy Consumption (kWh)'].map(lambda x: x.rstrip('kWh'))\n",
    "df_energy = df_energy.reset_index(drop = True).iloc[::2] \n",
    "df_energy = df_energy.tail(30)\n",
    "df_energy = df_energy.reset_index(drop = True)\n",
    "df_energy"
   ]
  },
  {
   "cell_type": "code",
   "execution_count": 64,
   "metadata": {},
   "outputs": [],
   "source": [
    "merged = pd.concat([df_name, df_energy], axis = 1)\n",
    "\n",
    "#make a column with today's date (the date you extracted the data) to make data visualization a little bit easier\n",
    "merged['Date'] = pd.to_datetime('today')\n",
    "\n",
    "#we want the final output to be in csv format\n",
    "merged.to_csv('daily_energy_consumption.csv', index = False, encoding='utf-8')"
   ]
  },
  {
   "attachments": {},
   "cell_type": "markdown",
   "metadata": {},
   "source": [
    "### Daily Data Collection\n",
    "We want the code to run automatically every day at midnight (assuming the data changes every 24 hours). Below we will be writing the appropriate script to execute this process. \n",
    "\n",
    "Here is the main resource I used to configure the code:\n",
    "https://towardsdatascience.com/how-to-easily-automate-your-python-scripts-on-mac-and-windows-459388c9cc94\n",
    "\n",
    "Before you begin, you will have to convert the ipynb to .py form by clicking on the ellipse at the navigation bar -> 'Export' ->  'Python Script'. You will then follow the instructions in the link above to locate the correct directory in which your file is contained. \n",
    "\n",
    "To ensure the data has been updated, go to the Terminal and type the following command: crontab -e (to exit, type \": wq\")\n",
    "\n",
    "#### Cheatsheet\n",
    "To find your current directory, go to the terminal and type 'cwd'\n",
    "\n",
    "To find all of the files in your current directory type 'ls'\n",
    "\n",
    "To change directories type 'cd' and your desired directory"
   ]
  },
  {
   "cell_type": "code",
   "execution_count": 61,
   "metadata": {},
   "outputs": [
    {
     "data": {
      "text/plain": [
       "'/Users/rianakahara/Downloads'"
      ]
     },
     "execution_count": 61,
     "metadata": {},
     "output_type": "execute_result"
    }
   ],
   "source": [
    "#find the current working directory\n",
    "import os\n",
    "os.getcwd()"
   ]
  },
  {
   "cell_type": "code",
   "execution_count": 63,
   "metadata": {},
   "outputs": [],
   "source": [
    "#change directory if necessary\n",
    "os.chdir('/Users/rianakahara/Downloads')"
   ]
  },
  {
   "attachments": {},
   "cell_type": "markdown",
   "metadata": {},
   "source": [
    "### Visualizing Data\n",
    "Data is best understood when converted into visualizations. Below we will write a script that will generate discrete line plots for each building with the option of viewing, daily, weekly, monthly, or yearly data. We will be able to view macroscopic trends and see if programs such as the Cool Campus Challenge create statistically significant changes in campus residents' energy footprints"
   ]
  },
  {
   "cell_type": "code",
   "execution_count": 65,
   "metadata": {},
   "outputs": [],
   "source": [
    "#import necessary packages\n",
    "import seaborn as sns"
   ]
  },
  {
   "cell_type": "code",
   "execution_count": 70,
   "metadata": {},
   "outputs": [
    {
     "data": {
      "text/plain": [
       "<AxesSubplot:xlabel='Building', ylabel='Energy Consumption (kWh)'>"
      ]
     },
     "execution_count": 70,
     "metadata": {},
     "output_type": "execute_result"
    },
    {
     "data": {
      "image/png": "[encoded data removed]",
      "text/plain": [
       "<Figure size 432x288 with 1 Axes>"
      ]
     },
     "metadata": {
      "needs_background": "light"
     },
     "output_type": "display_data"
    }
   ],
   "source": [
    "#reads the csv with all of the data and converts it into a scatterplot\n",
    "df = pd.read_csv('/Users/rianakahara/Downloads/daily_energy_consumption.csv')\n",
    "sns.scatterplot(data = df, x = 'Building', y = 'Energy Consumption (kWh)')"
   ]
  },
  {
   "attachments": {},
   "cell_type": "markdown",
   "metadata": {},
   "source": [
    "### Statistical Analysis \n",
    "We want to assess the efficacy of programs like the Cool Campus Challenge, a week-long initiatve incentivizing campus residents to reduce their energy and water footprints through guided challenges. We will be conducting a simple regression test to see if there were statistically significant differences in the energy levels during the one week challenge versus trend data before and after the challenge\n",
    "\n",
    "Here is the source I referenced to conduct the test: https://realpython.com/linear-regression-in-python/#simple-linear-regression\n",
    "\n",
    "We will need the following packages: NumPy, scikit-learn, and statsmodels (optional)"
   ]
  },
  {
   "cell_type": "code",
   "execution_count": 71,
   "metadata": {},
   "outputs": [],
   "source": [
    "import numpy as np\n",
    "from sklearn.linear_model import LinearRegression"
   ]
  },
  {
   "cell_type": "code",
   "execution_count": 75,
   "metadata": {},
   "outputs": [],
   "source": [
    "#we will be using the following arrays as examples. In a dataframe, each column will be a dataframe\n",
    "x = np.array([5, 15, 25, 35, 45, 55]).reshape((-1, 1))\n",
    "#the reshape argument converts this array into a column so we can create a matrix of values \n",
    "y = np.array([5, 20, 14, 32, 22, 38])"
   ]
  },
  {
   "cell_type": "code",
   "execution_count": 77,
   "metadata": {},
   "outputs": [
    {
     "name": "stdout",
     "output_type": "stream",
     "text": [
      "coefficient of determination: 0.7158756137479542\n",
      "intercept: 5.633333333333329\n",
      "slope: [0.54]\n"
     ]
    }
   ],
   "source": [
    "#we now create a linear regression model and fit it to the existing data\n",
    "model = LinearRegression().fit(x, y)\n",
    "\n",
    "#obtain the r-squared value by calling .score()\n",
    "r_sq = model.score(x, y)\n",
    "print(f\"coefficient of determination: {r_sq}\")\n",
    "\n",
    "#.score() has a lot of other built-in arguments that allow you to obtain the intercept and slope of the regression line\n",
    "print(f\"intercept: {model.intercept_}\")\n",
    "print(f\"slope: {model.coef_}\")\n",
    "\n",
    "#note: the trailing underscore indicates the values are an estimate"
   ]
  },
  {
   "cell_type": "code",
   "execution_count": null,
   "metadata": {},
   "outputs": [],
   "source": []
  }
 ],
 "metadata": {
  "kernelspec": {
   "display_name": "base",
   "language": "python",
   "name": "python3"
  },
  "language_info": {
   "codemirror_mode": {
    "name": "ipython",
    "version": 3
   },
   "file_extension": ".py",
   "mimetype": "text/x-python",
   "name": "python",
   "nbconvert_exporter": "python",
   "pygments_lexer": "ipython3",
   "version": "3.9.12"
  },
  "orig_nbformat": 4,
  "vscode": {
   "interpreter": {
    "hash": "2ca77fdd51538b2aa6e83f7ac592fb51a507c7481f13c022e2070408a5788e8d"
   }
  }
 },
 "nbformat": 4,
 "nbformat_minor": 2
}
